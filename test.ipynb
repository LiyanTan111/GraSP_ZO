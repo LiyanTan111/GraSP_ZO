{
 "cells": [
  {
   "attachments": {},
   "cell_type": "markdown",
   "metadata": {},
   "source": [
    "# model test"
   ]
  },
  {
   "attachments": {},
   "cell_type": "markdown",
   "metadata": {},
   "source": [
    "## Tensorized"
   ]
  },
  {
   "cell_type": "code",
   "execution_count": 1,
   "metadata": {},
   "outputs": [
    {
     "name": "stdout",
     "output_type": "stream",
     "text": [
      "((1, 2), 3)\n",
      "(1, 2)\n"
     ]
    },
    {
     "ename": "ValueError",
     "evalue": "not enough values to unpack (expected 3, got 2)",
     "output_type": "error",
     "traceback": [
      "\u001b[0;31m---------------------------------------------------------------------------\u001b[0m",
      "\u001b[0;31mValueError\u001b[0m                                Traceback (most recent call last)",
      "Cell \u001b[0;32mIn[1], line 11\u001b[0m\n\u001b[1;32m      9\u001b[0m y1, _ \u001b[39m=\u001b[39m my_func()\n\u001b[1;32m     10\u001b[0m \u001b[39mprint\u001b[39m(y1)\n\u001b[0;32m---> 11\u001b[0m z1, z2, z3 \u001b[39m=\u001b[39m my_func()\n\u001b[1;32m     12\u001b[0m \u001b[39mprint\u001b[39m(z1,z2,z3)\n",
      "\u001b[0;31mValueError\u001b[0m: not enough values to unpack (expected 3, got 2)"
     ]
    }
   ],
   "source": [
    "def my_func():\n",
    "    a = 1\n",
    "    b = 2\n",
    "    c = 3\n",
    "    return (a,b),c\n",
    "\n",
    "x = my_func()\n",
    "print(x)\n",
    "y1, _ = my_func()\n",
    "print(y1)\n",
    "z1, z2, z3 = my_func()\n",
    "print(z1,z2,z3)\n",
    "    "
   ]
  },
  {
   "cell_type": "code",
   "execution_count": 8,
   "metadata": {},
   "outputs": [
    {
     "name": "stdout",
     "output_type": "stream",
     "text": [
      "<class 'dict'>\n",
      "{0: 1, 100: 2, 200: 3}\n"
     ]
    }
   ],
   "source": [
    "import ast\n",
    "\n",
    "temp = '{0 : 1,100 : 2,200 : 3}'\n",
    "temp_list = ast.literal_eval(temp)\n",
    "\n",
    "print(type(temp_list))\n",
    "print(temp_list)"
   ]
  },
  {
   "cell_type": "code",
   "execution_count": 25,
   "metadata": {},
   "outputs": [
    {
     "data": {
      "text/plain": [
       "<Figure size 640x480 with 0 Axes>"
      ]
     },
     "metadata": {},
     "output_type": "display_data"
    },
    {
     "data": {
      "image/png": "[encoded data removed]",
      "text/plain": [
       "<Figure size 900x300 with 6 Axes>"
      ]
     },
     "metadata": {},
     "output_type": "display_data"
    },
    {
     "ename": "ValueError",
     "evalue": "cannot reshape array of size 448 into shape (21)",
     "output_type": "error",
     "traceback": [
      "\u001b[0;31m---------------------------------------------------------------------------\u001b[0m",
      "\u001b[0;31mValueError\u001b[0m                                Traceback (most recent call last)",
      "Cell \u001b[0;32mIn[25], line 21\u001b[0m\n\u001b[1;32m     19\u001b[0m size_x \u001b[39m=\u001b[39m \u001b[39mint\u001b[39m(np\u001b[39m.\u001b[39msqrt(\u001b[39mlen\u001b[39m(p)))\n\u001b[1;32m     20\u001b[0m \u001b[39m# size_y = int(p.numel()/size_x)\u001b[39;00m\n\u001b[0;32m---> 21\u001b[0m grad_zo \u001b[39m=\u001b[39m np\u001b[39m.\u001b[39;49mreshape(grads_zo[layer_name][p_name]\u001b[39m.\u001b[39;49mcpu()\u001b[39m.\u001b[39;49mnumpy(), (\u001b[39m-\u001b[39;49m\u001b[39m1\u001b[39;49m, size_x))\n\u001b[1;32m     22\u001b[0m grad_zo \u001b[39m=\u001b[39m grads_zo[layer_name][p_name]\u001b[39m.\u001b[39mcpu()\u001b[39m.\u001b[39mnumpy()\u001b[39m.\u001b[39mreshape((size_x,\u001b[39m-\u001b[39m\u001b[39m1\u001b[39m))\n\u001b[1;32m     23\u001b[0m grad_fo \u001b[39m=\u001b[39m grads_fo[layer_name][p_name]\u001b[39m.\u001b[39mcpu()\u001b[39m.\u001b[39mnumpy()\u001b[39m.\u001b[39mreshape((size_x,\u001b[39m-\u001b[39m\u001b[39m1\u001b[39m))\n",
      "File \u001b[0;32m<__array_function__ internals>:180\u001b[0m, in \u001b[0;36mreshape\u001b[0;34m(*args, **kwargs)\u001b[0m\n",
      "File \u001b[0;32m~/anaconda3/envs/zo_tonn/lib/python3.8/site-packages/numpy/core/fromnumeric.py:298\u001b[0m, in \u001b[0;36mreshape\u001b[0;34m(a, newshape, order)\u001b[0m\n\u001b[1;32m    198\u001b[0m \u001b[39m@array_function_dispatch\u001b[39m(_reshape_dispatcher)\n\u001b[1;32m    199\u001b[0m \u001b[39mdef\u001b[39;00m \u001b[39mreshape\u001b[39m(a, newshape, order\u001b[39m=\u001b[39m\u001b[39m'\u001b[39m\u001b[39mC\u001b[39m\u001b[39m'\u001b[39m):\n\u001b[1;32m    200\u001b[0m \u001b[39m    \u001b[39m\u001b[39m\"\"\"\u001b[39;00m\n\u001b[1;32m    201\u001b[0m \u001b[39m    Gives a new shape to an array without changing its data.\u001b[39;00m\n\u001b[1;32m    202\u001b[0m \n\u001b[0;32m   (...)\u001b[0m\n\u001b[1;32m    296\u001b[0m \u001b[39m           [5, 6]])\u001b[39;00m\n\u001b[1;32m    297\u001b[0m \u001b[39m    \"\"\"\u001b[39;00m\n\u001b[0;32m--> 298\u001b[0m     \u001b[39mreturn\u001b[39;00m _wrapfunc(a, \u001b[39m'\u001b[39;49m\u001b[39mreshape\u001b[39;49m\u001b[39m'\u001b[39;49m, newshape, order\u001b[39m=\u001b[39;49morder)\n",
      "File \u001b[0;32m~/anaconda3/envs/zo_tonn/lib/python3.8/site-packages/numpy/core/fromnumeric.py:57\u001b[0m, in \u001b[0;36m_wrapfunc\u001b[0;34m(obj, method, *args, **kwds)\u001b[0m\n\u001b[1;32m     54\u001b[0m     \u001b[39mreturn\u001b[39;00m _wrapit(obj, method, \u001b[39m*\u001b[39margs, \u001b[39m*\u001b[39m\u001b[39m*\u001b[39mkwds)\n\u001b[1;32m     56\u001b[0m \u001b[39mtry\u001b[39;00m:\n\u001b[0;32m---> 57\u001b[0m     \u001b[39mreturn\u001b[39;00m bound(\u001b[39m*\u001b[39;49margs, \u001b[39m*\u001b[39;49m\u001b[39m*\u001b[39;49mkwds)\n\u001b[1;32m     58\u001b[0m \u001b[39mexcept\u001b[39;00m \u001b[39mTypeError\u001b[39;00m:\n\u001b[1;32m     59\u001b[0m     \u001b[39m# A TypeError occurs if the object does have such a method in its\u001b[39;00m\n\u001b[1;32m     60\u001b[0m     \u001b[39m# class, but its signature is not identical to that of NumPy's. This\u001b[39;00m\n\u001b[0;32m   (...)\u001b[0m\n\u001b[1;32m     64\u001b[0m     \u001b[39m# Call _wrapit from within the except clause to ensure a potential\u001b[39;00m\n\u001b[1;32m     65\u001b[0m     \u001b[39m# exception has a traceback chain.\u001b[39;00m\n\u001b[1;32m     66\u001b[0m     \u001b[39mreturn\u001b[39;00m _wrapit(obj, method, \u001b[39m*\u001b[39margs, \u001b[39m*\u001b[39m\u001b[39m*\u001b[39mkwds)\n",
      "\u001b[0;31mValueError\u001b[0m: cannot reshape array of size 448 into shape (21)"
     ]
    }
   ],
   "source": [
    "import os\n",
    "import torch\n",
    "import numpy as np\n",
    "import matplotlib.pyplot as plt\n",
    "\n",
    "optimizer_name = 'ZO_SCD_esti'\n",
    "h_smooth = 0.008\n",
    "\n",
    "grads_path=os.path.join('./figs/' + optimizer_name + '/h_'+str(h_smooth)+'.pth')\n",
    "\n",
    "grads = torch.load(grads_path)\n",
    "\n",
    "grads_zo = grads[0]\n",
    "grads_fo = grads[1]\n",
    "grads_err = grads[2]\n",
    "\n",
    "for layer_name, layer in grads_zo.items():\n",
    "    for p_name, p in layer.items():\n",
    "        size_x = int(np.sqrt(len(p)))\n",
    "        # size_y = int(p.numel()/size_x)\n",
    "        grad_zo = np.reshape(grads_zo[layer_name][p_name].cpu().numpy(), (-1, size_x))\n",
    "        grad_zo = grads_zo[layer_name][p_name].cpu().numpy().reshape((size_x,-1))\n",
    "        grad_fo = grads_fo[layer_name][p_name].cpu().numpy().reshape((size_x,-1))\n",
    "        grad_err = grads_err[layer_name][p_name].cpu().numpy().reshape((size_x,-1))\n",
    "\n",
    "        fig = plt.figure()\n",
    "        fig, axs = plt.subplots(1, 3, figsize=(9, 3))\n",
    "\n",
    "        # Plot matrices on subplots\n",
    "        for ax, mat in zip(axs.flat, [grad_zo, grad_fo, grad_err]):\n",
    "            im = ax.imshow(mat, cmap='viridis')\n",
    "            fig.colorbar(im, ax=ax, shrink=1.0/axs.shape[0])\n",
    "\n",
    "        # Add titles to subplots\n",
    "        for ax, title in zip(axs.flat, ['grad ZO', 'grad FO', 'grad error']):\n",
    "            ax.set_title(title)\n",
    "\n",
    "        fig.suptitle(layer_name+' '+p_name)\n",
    "        plt.show()\n",
    "\n",
    "# single fig\n",
    "# grad_zo = grads_zo['fc1']['0'].cpu().numpy().reshape((8,8))\n",
    "# grad_fo = grads_fo['fc1']['0'].cpu().numpy().reshape((8,8))\n",
    "# grad_err = grads_err['fc1']['0'].cpu().numpy().reshape((8,8))\n",
    "\n",
    "# fig = plt.figure()\n",
    "# fig, axs = plt.subplots(1, 3, figsize=(9, 3))\n",
    "\n",
    "# # Plot matrices on subplots\n",
    "# for ax, mat in zip(axs.flat, [grad_zo, grad_fo, grad_err]):\n",
    "#     im = ax.imshow(mat, cmap='viridis')\n",
    "#     fig.colorbar(im, ax=ax, shrink=1.0/axs.shape[0])\n",
    "\n",
    "# # Add titles to subplots\n",
    "# for ax, title in zip(axs.flat, ['grad ZO', 'grad FO', 'grad error']):\n",
    "#     ax.set_title(title)\n",
    "\n",
    "# fig.suptitle('fc1 tt-core 0')\n",
    "# plt.show()"
   ]
  }
 ],
 "metadata": {
  "kernelspec": {
   "display_name": "zo_tonn",
   "language": "python",
   "name": "python3"
  },
  "language_info": {
   "codemirror_mode": {
    "name": "ipython",
    "version": 3
   },
   "file_extension": ".py",
   "mimetype": "text/x-python",
   "name": "python",
   "nbconvert_exporter": "python",
   "pygments_lexer": "ipython3",
   "version": "3.8.16"
  },
  "orig_nbformat": 4,
  "vscode": {
   "interpreter": {
    "hash": "36f5617a9bc78e5c9dc7ff744727aa6ad936541e036290840a905f6059c4085d"
   }
  }
 },
 "nbformat": 4,
 "nbformat_minor": 2
}
