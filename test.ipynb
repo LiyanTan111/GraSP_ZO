{
 "cells": [
  {
   "attachments": {},
   "cell_type": "markdown",
   "metadata": {},
   "source": [
    "# model test"
   ]
  },
  {
   "attachments": {},
   "cell_type": "markdown",
   "metadata": {},
   "source": [
    "## Tensorized"
   ]
  },
  {
   "cell_type": "code",
   "execution_count": 1,
   "metadata": {},
   "outputs": [
    {
     "name": "stdout",
     "output_type": "stream",
     "text": [
      "((1, 2), 3)\n",
      "(1, 2)\n"
     ]
    },
    {
     "ename": "ValueError",
     "evalue": "not enough values to unpack (expected 3, got 2)",
     "output_type": "error",
     "traceback": [
      "\u001b[0;31m---------------------------------------------------------------------------\u001b[0m",
      "\u001b[0;31mValueError\u001b[0m                                Traceback (most recent call last)",
      "Cell \u001b[0;32mIn[1], line 11\u001b[0m\n\u001b[1;32m      9\u001b[0m y1, _ \u001b[39m=\u001b[39m my_func()\n\u001b[1;32m     10\u001b[0m \u001b[39mprint\u001b[39m(y1)\n\u001b[0;32m---> 11\u001b[0m z1, z2, z3 \u001b[39m=\u001b[39m my_func()\n\u001b[1;32m     12\u001b[0m \u001b[39mprint\u001b[39m(z1,z2,z3)\n",
      "\u001b[0;31mValueError\u001b[0m: not enough values to unpack (expected 3, got 2)"
     ]
    }
   ],
   "source": [
    "def my_func():\n",
    "    a = 1\n",
    "    b = 2\n",
    "    c = 3\n",
    "    return (a,b),c\n",
    "\n",
    "x = my_func()\n",
    "print(x)\n",
    "y1, _ = my_func()\n",
    "print(y1)\n",
    "z1, z2, z3 = my_func()\n",
    "print(z1,z2,z3)\n",
    "    "
   ]
  },
  {
   "cell_type": "code",
   "execution_count": 8,
   "metadata": {},
   "outputs": [
    {
     "name": "stdout",
     "output_type": "stream",
     "text": [
      "<class 'dict'>\n",
      "{0: 1, 100: 2, 200: 3}\n"
     ]
    }
   ],
   "source": [
    "import ast\n",
    "\n",
    "temp = '{0 : 1,100 : 2,200 : 3}'\n",
    "temp_list = ast.literal_eval(temp)\n",
    "\n",
    "print(type(temp_list))\n",
    "print(temp_list)"
   ]
  },
  {
   "cell_type": "code",
   "execution_count": null,
   "metadata": {},
   "outputs": [],
   "source": [
    "import os\n",
    "import torch\n",
    "import numpy as np\n",
    "import matplotlib.pyplot as plt\n",
    "\n",
    "optimizer_name = 'ZO_SCD_esti'\n",
    "h_smooth = 0.008\n",
    "\n",
    "grads_path=os.path.join('./figs/' + optimizer_name + '/h_'+str(h_smooth)+'.pth')\n",
    "\n",
    "grads = torch.load(grads_path)\n",
    "\n",
    "\n",
    "X=np.array([[0,3,2,4],[5,4,7,8],[9,16,8,5],[13,3,4,16],[6,18,1,20]])\n",
    "A = np.arange(0, 100).reshape(10, 10)\n",
    "ax = plt.matshow(X)\n",
    "plt.colorbar(ax.colorbar, fraction=0.025)\n",
    "plt.title(\"matrix X\");\n",
    "plt.show()"
   ]
  }
 ],
 "metadata": {
  "kernelspec": {
   "display_name": "zo_tonn",
   "language": "python",
   "name": "python3"
  },
  "language_info": {
   "codemirror_mode": {
    "name": "ipython",
    "version": 3
   },
   "file_extension": ".py",
   "mimetype": "text/x-python",
   "name": "python",
   "nbconvert_exporter": "python",
   "pygments_lexer": "ipython3",
   "version": "3.8.16"
  },
  "orig_nbformat": 4,
  "vscode": {
   "interpreter": {
    "hash": "36f5617a9bc78e5c9dc7ff744727aa6ad936541e036290840a905f6059c4085d"
   }
  }
 },
 "nbformat": 4,
 "nbformat_minor": 2
}
