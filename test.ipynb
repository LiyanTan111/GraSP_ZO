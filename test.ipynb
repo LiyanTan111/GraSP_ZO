{
 "cells": [
  {
   "attachments": {},
   "cell_type": "markdown",
   "metadata": {},
   "source": [
    "# model test"
   ]
  },
  {
   "attachments": {},
   "cell_type": "markdown",
   "metadata": {},
   "source": [
    "## Tensorized"
   ]
  },
  {
   "cell_type": "code",
   "execution_count": 1,
   "metadata": {},
   "outputs": [
    {
     "name": "stdout",
     "output_type": "stream",
     "text": [
      "((1, 2), 3)\n",
      "(1, 2)\n"
     ]
    },
    {
     "ename": "ValueError",
     "evalue": "not enough values to unpack (expected 3, got 2)",
     "output_type": "error",
     "traceback": [
      "\u001b[0;31m---------------------------------------------------------------------------\u001b[0m",
      "\u001b[0;31mValueError\u001b[0m                                Traceback (most recent call last)",
      "Cell \u001b[0;32mIn[1], line 11\u001b[0m\n\u001b[1;32m      9\u001b[0m y1, _ \u001b[39m=\u001b[39m my_func()\n\u001b[1;32m     10\u001b[0m \u001b[39mprint\u001b[39m(y1)\n\u001b[0;32m---> 11\u001b[0m z1, z2, z3 \u001b[39m=\u001b[39m my_func()\n\u001b[1;32m     12\u001b[0m \u001b[39mprint\u001b[39m(z1,z2,z3)\n",
      "\u001b[0;31mValueError\u001b[0m: not enough values to unpack (expected 3, got 2)"
     ]
    }
   ],
   "source": [
    "def my_func():\n",
    "    a = 1\n",
    "    b = 2\n",
    "    c = 3\n",
    "    return (a,b),c\n",
    "\n",
    "x = my_func()\n",
    "print(x)\n",
    "y1, _ = my_func()\n",
    "print(y1)\n",
    "z1, z2, z3 = my_func()\n",
    "print(z1,z2,z3)\n",
    "    "
   ]
  },
  {
   "cell_type": "code",
   "execution_count": null,
   "metadata": {},
   "outputs": [],
   "source": [
    "import torch\n",
    "from models.tensor_models import MNIST_TTM\n",
    "from tensor_layers.layers import TensorizedLinear_module\n",
    "\n",
    "net = MNIST_TTM('TensorTrainMatrix', 4, 0.1)\n",
    "\n",
    "for idx, (layer_name, layer) in enumerate(net.named_modules()):\n",
    "    if isinstance(layer, TensorizedLinear_module):\n",
    "        print(idx)\n",
    "        print(layer_name)\n",
    "        print(layer)"
   ]
  },
  {
   "cell_type": "code",
   "execution_count": 6,
   "metadata": {},
   "outputs": [
    {
     "name": "stdout",
     "output_type": "stream",
     "text": [
      "[2, 3, 4]\n",
      "[2, 3, 4]\n",
      "[2, 3, 4]\n",
      "[1, 2]\n",
      "[2, 3, 4]\n",
      "[2, 3, 4]\n"
     ]
    }
   ],
   "source": [
    "a = [1,2,3,4]\n",
    "\n",
    "b = a\n",
    "c = b\n",
    "\n",
    "a.pop(0)\n",
    "print(a)\n",
    "print(b)\n",
    "print(c)\n",
    "\n",
    "a = [1,2]\n",
    "print(a)\n",
    "print(b)\n",
    "print(c)"
   ]
  }
 ],
 "metadata": {
  "kernelspec": {
   "display_name": "zo_tonn",
   "language": "python",
   "name": "python3"
  },
  "language_info": {
   "codemirror_mode": {
    "name": "ipython",
    "version": 3
   },
   "file_extension": ".py",
   "mimetype": "text/x-python",
   "name": "python",
   "nbconvert_exporter": "python",
   "pygments_lexer": "ipython3",
   "version": "3.8.16"
  },
  "orig_nbformat": 4,
  "vscode": {
   "interpreter": {
    "hash": "36f5617a9bc78e5c9dc7ff744727aa6ad936541e036290840a905f6059c4085d"
   }
  }
 },
 "nbformat": 4,
 "nbformat_minor": 2
}
